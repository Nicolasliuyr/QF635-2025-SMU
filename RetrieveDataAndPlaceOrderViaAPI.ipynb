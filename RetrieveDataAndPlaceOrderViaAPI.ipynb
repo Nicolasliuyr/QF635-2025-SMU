{
 "cells": [
  {
   "cell_type": "code",
   "execution_count": 97,
   "id": "00e7586b-124d-415d-936f-4566b000ea7c",
   "metadata": {},
   "outputs": [],
   "source": [
    "from binance.client import Client\n",
    "from binance.enums import *\n",
    "import os\n",
    "from datetime import datetime\n",
    "import requests\n",
    "import pprint\n",
    "import os\n",
    "from dotenv import load_dotenv\n",
    "\n",
    "#For trading\n",
    "import time\n",
    "import hmac\n",
    "import hashlib\n",
    "from urllib.parse import urlencode"
   ]
  },
  {
   "cell_type": "code",
   "execution_count": 45,
   "id": "ea04ccf3-c928-42d4-8858-09e860665f19",
   "metadata": {},
   "outputs": [],
   "source": [
    "# Step 0 - Credential Management\n",
    "# Getting API key and secret\n",
    "def get_credential():\n",
    "    # CredentialFile Name\n",
    "    CredentialFile = 'API key.env'\n",
    "\n",
    "    # CredentialFile Path\n",
    "    CredentialFile_path = os.path.join(os.getcwd(), CredentialFile)\n",
    "\n",
    "    # Load Credential File\n",
    "    LoginDetails = load_dotenv(dotenv_path=CredentialFile_path)\n",
    "    \n",
    "    # print(\"dotenv loaded successfully:\", LoginDetails)\n",
    "    \n",
    "    API_key = os.getenv('key')\n",
    "    API_secret = os.getenv('secret')\n",
    "    API_Docs = os.getenv('Docs')    \n",
    "    return API_key, API_secret, API_Docs"
   ]
  },
  {
   "cell_type": "code",
   "execution_count": null,
   "id": "cf57afbe-153b-4f05-855c-3cd0cc58042b",
   "metadata": {},
   "outputs": [],
   "source": []
  },
  {
   "cell_type": "code",
   "execution_count": 76,
   "id": "6eda707b-446e-4c9b-b7bc-cb9215873b2e",
   "metadata": {},
   "outputs": [],
   "source": [
    "#testing parameters\n",
    "\n",
    "api_key=get_credential()[0]\n",
    "api_secret=get_credential()[1]\n",
    "URL=get_credential()[2]\n",
    "\n",
    "client = Client(api_key, api_secret)\n",
    "client.FUTURES_URL = URL\n",
    "\n",
    "symbol = 'BTCUSDT'\n",
    "candleSize ='1m'\n",
    "OrderbookSize=5"
   ]
  },
  {
   "cell_type": "markdown",
   "id": "ff63a60d-5eb3-47bb-a69a-33fa11c4b1ea",
   "metadata": {},
   "source": [
    "### Enquire of market data and details"
   ]
  },
  {
   "cell_type": "code",
   "execution_count": 50,
   "id": "26bf5a4d-4e96-4326-a1f7-787c92f859ca",
   "metadata": {},
   "outputs": [
    {
     "name": "stdout",
     "output_type": "stream",
     "text": [
      "Server Time: 2025-05-08 00:33:40.793000\n"
     ]
    }
   ],
   "source": [
    "#1. Server_timestampe -> timestampe on when we get the price,orderbook etc.\n",
    "server_time = client.get_server_time()['serverTime']\n",
    "print(f\"Server Time: {datetime.fromtimestamp(server_time/1000)}\")"
   ]
  },
  {
   "cell_type": "code",
   "execution_count": 54,
   "id": "02e13ebe-c64d-46d3-99a0-d0d0249454f0",
   "metadata": {},
   "outputs": [
    {
     "name": "stdout",
     "output_type": "stream",
     "text": [
      "\n",
      "Current Price of BTCUSDT: 96501.40\n"
     ]
    }
   ],
   "source": [
    "#2. Get Current Price\n",
    "price = client.futures_symbol_ticker(symbol=symbol)\n",
    "print(f\"\\nCurrent Price of {symbol}: {price['price']}\")"
   ]
  },
  {
   "cell_type": "code",
   "execution_count": 68,
   "id": "69ed012c-bc22-4c13-bef0-32ba698d93e9",
   "metadata": {},
   "outputs": [
    {
     "name": "stdout",
     "output_type": "stream",
     "text": [
      "\n",
      "Recent 1m Candles:\n",
      "Candle 0 - Time: 2025-05-08 00:40:00, Open: 96545.80, High: 96609.80, Low: 96545.80, Close: 96609.80, Volume: 16.990\n",
      "Candle 1 - Time: 2025-05-08 00:41:00, Open: 96609.80, High: 96632.30, Low: 96609.80, Close: 96632.30, Volume: 2.411\n"
     ]
    }
   ],
   "source": [
    "#3. Get 2 Most Recent Candlesticks (Candle 0 is developed candlestick, Candle 1 is under development candlestick - CURRENT)\n",
    "candles = client.futures_klines(symbol=symbol, interval=candleSize, limit=2)\n",
    "print(\"\\nRecent \"+candleSize+\" Candles:\")\n",
    "for i, c in enumerate(candles):\n",
    "    t = datetime.fromtimestamp(c[0]/1000)\n",
    "    print(f\"Candle {i} - Time: {t}, Open: {c[1]}, High: {c[2]}, Low: {c[3]}, Close: {c[4]}, Volume: {c[5]}\")"
   ]
  },
  {
   "cell_type": "code",
   "execution_count": 84,
   "id": "c519642a-4657-4fb6-934f-0e2a932c0aab",
   "metadata": {
    "scrolled": true
   },
   "outputs": [
    {
     "name": "stdout",
     "output_type": "stream",
     "text": [
      "\n",
      "Order Book (5):\n",
      "Bids:\n",
      "Price: 96639.60, Quantity: 0.031\n",
      "Price: 96639.30, Quantity: 0.515\n",
      "Price: 96638.10, Quantity: 0.004\n",
      "Price: 96637.60, Quantity: 0.130\n",
      "Price: 96637.40, Quantity: 0.012\n",
      "Asks:\n",
      "Price: 96640.00, Quantity: 7.067\n",
      "Price: 96641.50, Quantity: 0.192\n",
      "Price: 96641.70, Quantity: 0.002\n",
      "Price: 96641.80, Quantity: 0.002\n",
      "Price: 96642.10, Quantity: 0.773\n"
     ]
    }
   ],
   "source": [
    "#4. Get Order Book information -> TO-DO -> to make this an easier callable object\n",
    "depth = client.futures_order_book(symbol=symbol, limit=OrderbookSize)\n",
    "print(\"\\nOrder Book (\"+str(OrderbookSize)+\"):\")\n",
    "print(\"Bids:\")\n",
    "for bid in depth['bids']:\n",
    "    print(f\"Price: {bid[0]}, Quantity: {bid[1]}\")\n",
    "print(\"Asks:\")\n",
    "for ask in depth['asks']:\n",
    "    print(f\"Price: {ask[0]}, Quantity: {ask[1]}\")"
   ]
  },
  {
   "cell_type": "code",
   "execution_count": 143,
   "id": "5206c4d8-cab5-4f68-b58b-fdb5f1b76cd0",
   "metadata": {},
   "outputs": [
    {
     "name": "stdout",
     "output_type": "stream",
     "text": [
      "\n",
      "Open Orders for BTCUSDT:\n",
      "[{'avgPrice': '0',\n",
      "  'clientOrderId': 'XYADD4H0zI4M75cVcX8e79',\n",
      "  'closePosition': False,\n",
      "  'cumQuote': '0.00000',\n",
      "  'executedQty': '0',\n",
      "  'goodTillDate': 0,\n",
      "  'orderId': 4406234900,\n",
      "  'origQty': '0.010',\n",
      "  'origType': 'LIMIT',\n",
      "  'positionSide': 'BOTH',\n",
      "  'price': '10000',\n",
      "  'priceMatch': 'NONE',\n",
      "  'priceProtect': False,\n",
      "  'reduceOnly': False,\n",
      "  'selfTradePreventionMode': 'EXPIRE_MAKER',\n",
      "  'side': 'BUY',\n",
      "  'status': 'NEW',\n",
      "  'stopPrice': '0',\n",
      "  'symbol': 'BTCUSDT',\n",
      "  'time': 1746637760437,\n",
      "  'timeInForce': 'GTC',\n",
      "  'type': 'LIMIT',\n",
      "  'updateTime': 1746637760437,\n",
      "  'workingType': 'CONTRACT_PRICE'},\n",
      " {'avgPrice': '0',\n",
      "  'clientOrderId': 'fchiGk6ygXmNA9PJGz8pIw',\n",
      "  'closePosition': False,\n",
      "  'cumQuote': '0.00000',\n",
      "  'executedQty': '0',\n",
      "  'goodTillDate': 0,\n",
      "  'orderId': 4406234437,\n",
      "  'origQty': '0.010',\n",
      "  'origType': 'LIMIT',\n",
      "  'positionSide': 'BOTH',\n",
      "  'price': '10000',\n",
      "  'priceMatch': 'NONE',\n",
      "  'priceProtect': False,\n",
      "  'reduceOnly': False,\n",
      "  'selfTradePreventionMode': 'EXPIRE_MAKER',\n",
      "  'side': 'BUY',\n",
      "  'status': 'NEW',\n",
      "  'stopPrice': '0',\n",
      "  'symbol': 'BTCUSDT',\n",
      "  'time': 1746637742342,\n",
      "  'timeInForce': 'GTC',\n",
      "  'type': 'LIMIT',\n",
      "  'updateTime': 1746637742342,\n",
      "  'workingType': 'CONTRACT_PRICE'},\n",
      " {'avgPrice': '0',\n",
      "  'clientOrderId': 'lzQMXclF36B2GboBXPPzr7',\n",
      "  'closePosition': False,\n",
      "  'cumQuote': '0.00000',\n",
      "  'executedQty': '0',\n",
      "  'goodTillDate': 0,\n",
      "  'orderId': 4406232680,\n",
      "  'origQty': '0.010',\n",
      "  'origType': 'LIMIT',\n",
      "  'positionSide': 'BOTH',\n",
      "  'price': '10000',\n",
      "  'priceMatch': 'NONE',\n",
      "  'priceProtect': False,\n",
      "  'reduceOnly': False,\n",
      "  'selfTradePreventionMode': 'EXPIRE_MAKER',\n",
      "  'side': 'BUY',\n",
      "  'status': 'NEW',\n",
      "  'stopPrice': '0',\n",
      "  'symbol': 'BTCUSDT',\n",
      "  'time': 1746637669783,\n",
      "  'timeInForce': 'GTC',\n",
      "  'type': 'LIMIT',\n",
      "  'updateTime': 1746637669783,\n",
      "  'workingType': 'CONTRACT_PRICE'}]\n"
     ]
    }
   ],
   "source": [
    "#5. Open Orders Position\n",
    "open_orders = client.futures_get_open_orders(symbol=symbol)\n",
    "print(f\"\\nOpen Orders for {symbol}:\")\n",
    "pprint.pprint(open_orders)\n"
   ]
  },
  {
   "cell_type": "code",
   "execution_count": 123,
   "id": "1cc66376-369c-4945-aa56-f4754846a555",
   "metadata": {},
   "outputs": [
    {
     "name": "stdout",
     "output_type": "stream",
     "text": [
      "\n",
      "Open Positions for BTCUSDT:\n",
      "dict_keys(['symbol', 'positionSide', 'positionAmt', 'entryPrice', 'breakEvenPrice', 'markPrice', 'unRealizedProfit', 'liquidationPrice', 'isolatedMargin', 'notional', 'marginAsset', 'isolatedWallet', 'initialMargin', 'maintMargin', 'positionInitialMargin', 'openOrderInitialMargin', 'adl', 'bidNotional', 'askNotional', 'updateTime'])\n",
      "Position: 0.010, Entry: 96878.0, PnL: -1.06853097\n"
     ]
    }
   ],
   "source": [
    "#6. Open Positions\n",
    "positions = client.futures_position_information(symbol=symbol)\n",
    "print(f\"\\nOpen Positions for {symbol}:\")\n",
    "for pos in positions:\n",
    "    print(pos.keys())\n",
    "for pos in positions:\n",
    "    if float(pos['positionAmt']) != 0:\n",
    "        print(f\"Position: {pos['positionAmt']}, Entry: {pos['entryPrice']}, PnL: {pos['unRealizedProfit']}\")"
   ]
  },
  {
   "cell_type": "code",
   "execution_count": 121,
   "id": "adee51b3-886f-40e9-a562-32499a96881d",
   "metadata": {},
   "outputs": [
    {
     "data": {
      "text/plain": [
       "'BOTH'"
      ]
     },
     "execution_count": 121,
     "metadata": {},
     "output_type": "execute_result"
    }
   ],
   "source": [
    "pos['positionSide']"
   ]
  },
  {
   "cell_type": "code",
   "execution_count": 223,
   "id": "4ef3bb83-89ea-402d-8265-e90ed988863d",
   "metadata": {},
   "outputs": [
    {
     "name": "stdout",
     "output_type": "stream",
     "text": [
      "\n",
      "Futures Wallet Balances:\n",
      "USDT: 14999.61248800 (Available: 14948.90718505)\n"
     ]
    }
   ],
   "source": [
    "#7. Cash Balance\n",
    "balances = client.futures_account_balance()\n",
    "print(\"\\nFutures Wallet Balances:\")\n",
    "for bal in balances:\n",
    "    if float(bal['balance']) > 0:\n",
    "        print(f\"{bal['asset']}: {bal['balance']} (Available: {bal['availableBalance']})\")\n"
   ]
  },
  {
   "cell_type": "code",
   "execution_count": null,
   "id": "9fc5ebb3-4318-4cc8-9c77-6c39adec986e",
   "metadata": {},
   "outputs": [],
   "source": []
  },
  {
   "cell_type": "code",
   "execution_count": 103,
   "id": "6692e69a-b461-42c6-8d01-33f1b259dbe3",
   "metadata": {},
   "outputs": [
    {
     "data": {
      "text/plain": [
       "'https://testnet.binancefuture.com/fapi'"
      ]
     },
     "execution_count": 103,
     "metadata": {},
     "output_type": "execute_result"
    }
   ],
   "source": [
    "api_key=get_credential()[0]\n",
    "api_secret=get_credential()[1]\n",
    "URL=get_credential()[2]"
   ]
  },
  {
   "cell_type": "markdown",
   "id": "28fe2b45-8fd3-41a4-a558-b4ab24fa0ec5",
   "metadata": {},
   "source": [
    "### Trading"
   ]
  },
  {
   "cell_type": "code",
   "execution_count": 105,
   "id": "3c7082a2-afee-4bbd-88a8-96beab5f9111",
   "metadata": {},
   "outputs": [],
   "source": [
    "#8. Place Market Order\n",
    "def send_market_order(symbol, side, quantity):\n",
    "    url_path = '/v1/order'\n",
    "    timestamp = int(time.time() * 1000)\n",
    "\n",
    "    params = {\n",
    "        'symbol': symbol,\n",
    "        'side': side,  # \"BUY\" or \"SELL\"\n",
    "        'type': 'MARKET',\n",
    "        'quantity': quantity,\n",
    "        'timestamp': timestamp\n",
    "    }\n",
    "\n",
    "    query_string = urlencode(params)\n",
    "    signature = hmac.new(\n",
    "        api_secret.encode('utf-8'),\n",
    "        query_string.encode('utf-8'),\n",
    "        hashlib.sha256\n",
    "    ).hexdigest()\n",
    "\n",
    "    url = URL + url_path + '?' + query_string + '&signature=' + signature\n",
    "\n",
    "    headers = {\n",
    "        'X-MBX-APIKEY': api_key\n",
    "    }\n",
    "\n",
    "    response = requests.post(url, headers=headers)\n",
    "    print(response.status_code, response.json())"
   ]
  },
  {
   "cell_type": "code",
   "execution_count": 109,
   "id": "030af7c2-7640-4e16-a811-bd2b5c94eb7e",
   "metadata": {},
   "outputs": [
    {
     "name": "stdout",
     "output_type": "stream",
     "text": [
      "200 {'orderId': 4406217485, 'symbol': 'BTCUSDT', 'status': 'NEW', 'clientOrderId': 'njqAJYpVT0h4dM0smDaaTH', 'price': '0.00', 'avgPrice': '0.00', 'origQty': '0.010', 'executedQty': '0.000', 'cumQty': '0.000', 'cumQuote': '0.00000', 'timeInForce': 'GTC', 'type': 'MARKET', 'reduceOnly': False, 'closePosition': False, 'side': 'BUY', 'positionSide': 'BOTH', 'stopPrice': '0.00', 'workingType': 'CONTRACT_PRICE', 'priceProtect': False, 'origType': 'MARKET', 'priceMatch': 'NONE', 'selfTradePreventionMode': 'EXPIRE_MAKER', 'goodTillDate': 0, 'updateTime': 1746637132810}\n"
     ]
    }
   ],
   "source": [
    "send_market_order(symbol=symbol, side='BUY', quantity=0.01)"
   ]
  },
  {
   "cell_type": "code",
   "execution_count": null,
   "id": "cf9e5397-5024-48a3-b4a5-13d084a12d2d",
   "metadata": {},
   "outputs": [],
   "source": []
  },
  {
   "cell_type": "code",
   "execution_count": 149,
   "id": "fdd436dd-32b5-4837-b48b-b07da8860dcf",
   "metadata": {},
   "outputs": [],
   "source": [
    "#9. Place Limit Order; tif-> 'GTC' Good Til Canceled, 'IOC' Immediate or Cancel, 'FOK' Fill or Kill\n",
    "def send_limit_order(symbol, side, quantity, price, tif='GTC'):\n",
    "    timestamp = int(time.time() * 1000)\n",
    "\n",
    "    params = {\n",
    "        'symbol': symbol,\n",
    "        'side': side,                # 'BUY' or 'SELL'\n",
    "        'type': 'LIMIT',\n",
    "        'quantity': quantity,\n",
    "        'price': price,\n",
    "        'timeInForce': tif,          # 'GTC', 'IOC', or 'FOK'\n",
    "        'timestamp': timestamp\n",
    "    }\n",
    "\n",
    "    query_string = urlencode(params)\n",
    "    signature = hmac.new(\n",
    "        api_secret.encode('utf-8'),\n",
    "        query_string.encode('utf-8'),\n",
    "        hashlib.sha256\n",
    "    ).hexdigest()\n",
    "\n",
    "    url = f\"{URL}/v1/order?{query_string}&signature={signature}\"\n",
    "\n",
    "    headers = {\n",
    "        'X-MBX-APIKEY': api_key\n",
    "    }\n",
    "\n",
    "    response = requests.post(url, headers=headers)\n",
    "    print(response.status_code, response.json())"
   ]
  },
  {
   "cell_type": "code",
   "execution_count": 141,
   "id": "8b4c5212-2a5b-4b8b-abfe-6e863785c7fa",
   "metadata": {},
   "outputs": [
    {
     "name": "stdout",
     "output_type": "stream",
     "text": [
      "200 {'orderId': 4406234900, 'symbol': 'BTCUSDT', 'status': 'NEW', 'clientOrderId': 'XYADD4H0zI4M75cVcX8e79', 'price': '10000.00', 'avgPrice': '0.00', 'origQty': '0.010', 'executedQty': '0.000', 'cumQty': '0.000', 'cumQuote': '0.00000', 'timeInForce': 'GTC', 'type': 'LIMIT', 'reduceOnly': False, 'closePosition': False, 'side': 'BUY', 'positionSide': 'BOTH', 'stopPrice': '0.00', 'workingType': 'CONTRACT_PRICE', 'priceProtect': False, 'origType': 'LIMIT', 'priceMatch': 'NONE', 'selfTradePreventionMode': 'EXPIRE_MAKER', 'goodTillDate': 0, 'updateTime': 1746637760437}\n"
     ]
    }
   ],
   "source": [
    "send_limit_order(symbol=symbol, side='BUY', quantity=0.01, price='10000')"
   ]
  },
  {
   "cell_type": "code",
   "execution_count": null,
   "id": "68153b64-e292-42fd-959b-1e739d236c63",
   "metadata": {},
   "outputs": [],
   "source": []
  },
  {
   "cell_type": "code",
   "execution_count": 153,
   "id": "d6025bac-1176-47a8-bd12-130838b09b1d",
   "metadata": {},
   "outputs": [],
   "source": [
    "#10. Place Stop_Limit Order\n",
    "def place_stop_limit_order(symbol, side, quantity, stop_price, limit_price):\n",
    "    timestamp = int(time.time() * 1000)\n",
    "\n",
    "    params = {\n",
    "        'symbol': symbol,\n",
    "        'side': side,\n",
    "        'type': 'STOP',\n",
    "        'stopPrice': stop_price,\n",
    "        'price': limit_price,\n",
    "        'quantity': quantity,\n",
    "        'timeInForce': 'GTC',\n",
    "        'timestamp': timestamp\n",
    "    }\n",
    "\n",
    "    query_string = urlencode(params)\n",
    "    signature = hmac.new(api_secret.encode('utf-8'), query_string.encode('utf-8'), hashlib.sha256).hexdigest()\n",
    "    url = f\"{URL}/v1/order?{query_string}&signature={signature}\"\n",
    "\n",
    "    headers = {'X-MBX-APIKEY': api_key}\n",
    "    response = requests.post(url, headers=headers)\n",
    "    print(response.status_code, response.json())"
   ]
  },
  {
   "cell_type": "code",
   "execution_count": 165,
   "id": "30924fc9-f11e-4e09-9b0f-5de90598c8b6",
   "metadata": {},
   "outputs": [
    {
     "name": "stdout",
     "output_type": "stream",
     "text": [
      "200 {'orderId': 4406246788, 'symbol': 'BTCUSDT', 'status': 'NEW', 'clientOrderId': 'GfKNlSZVLkdajnmqddhvHc', 'price': '150000.00', 'avgPrice': '0.00', 'origQty': '0.010', 'executedQty': '0.000', 'cumQty': '0.000', 'cumQuote': '0.00000', 'timeInForce': 'GTC', 'type': 'STOP', 'reduceOnly': False, 'closePosition': False, 'side': 'BUY', 'positionSide': 'BOTH', 'stopPrice': '150000.00', 'workingType': 'CONTRACT_PRICE', 'priceProtect': False, 'origType': 'STOP', 'priceMatch': 'NONE', 'selfTradePreventionMode': 'EXPIRE_MAKER', 'goodTillDate': 0, 'updateTime': 1746638190214}\n"
     ]
    }
   ],
   "source": [
    "place_stop_limit_order(symbol=symbol, side='BUY', quantity=0.01, stop_price='150000', limit_price='150000')"
   ]
  },
  {
   "cell_type": "code",
   "execution_count": null,
   "id": "d44f1912-d1e8-4b4c-ab93-ec5017cce559",
   "metadata": {},
   "outputs": [],
   "source": []
  },
  {
   "cell_type": "code",
   "execution_count": 219,
   "id": "dfdbdb21-1b7e-4058-8d6c-0812ac1a5a3d",
   "metadata": {},
   "outputs": [],
   "source": [
    "#11. Cancel specific order\n",
    "def cancel_order(symbol, order_id):\n",
    "    timestamp = int(time.time() * 1000)\n",
    "\n",
    "    params = {\n",
    "        'symbol': symbol,\n",
    "        'orderId': order_id,\n",
    "        'timestamp': timestamp\n",
    "    }\n",
    "\n",
    "    query_string = urlencode(params)\n",
    "    signature = hmac.new(\n",
    "        api_secret.encode('utf-8'),\n",
    "        query_string.encode('utf-8'),\n",
    "        hashlib.sha256\n",
    "    ).hexdigest()\n",
    "\n",
    "    url = f\"{URL}/v1/order?{query_string}&signature={signature}\"\n",
    "    headers = {'X-MBX-APIKEY': api_key}\n",
    "\n",
    "    response = requests.delete(url, headers=headers)\n",
    "    print(response.status_code, response.json())"
   ]
  },
  {
   "cell_type": "code",
   "execution_count": 169,
   "id": "2a975481-93f6-4256-9958-99444d853c40",
   "metadata": {},
   "outputs": [],
   "source": [
    "open_orders = client.futures_get_open_orders(symbol=symbol)"
   ]
  },
  {
   "cell_type": "code",
   "execution_count": 209,
   "id": "6f8e175d-9c0d-4acc-a648-740bc3e93cd7",
   "metadata": {},
   "outputs": [
    {
     "name": "stdout",
     "output_type": "stream",
     "text": [
      "200 {'orderId': 4406234900, 'symbol': 'BTCUSDT', 'status': 'CANCELED', 'clientOrderId': 'XYADD4H0zI4M75cVcX8e79', 'price': '10000.00', 'avgPrice': '0.00', 'origQty': '0.010', 'executedQty': '0.000', 'cumQty': '0.000', 'cumQuote': '0.00000', 'timeInForce': 'GTC', 'type': 'LIMIT', 'reduceOnly': False, 'closePosition': False, 'side': 'BUY', 'positionSide': 'BOTH', 'stopPrice': '0.00', 'workingType': 'CONTRACT_PRICE', 'priceProtect': False, 'origType': 'LIMIT', 'priceMatch': 'NONE', 'selfTradePreventionMode': 'EXPIRE_MAKER', 'goodTillDate': 0, 'updateTime': 1746638454558}\n"
     ]
    }
   ],
   "source": [
    "cancel_order(symbol=symbol, order_id=open_orders[0].get('orderId'))"
   ]
  },
  {
   "cell_type": "code",
   "execution_count": null,
   "id": "fd9e5df3-86a1-4761-a9cb-b4c5840eb8b2",
   "metadata": {},
   "outputs": [],
   "source": []
  },
  {
   "cell_type": "code",
   "execution_count": 221,
   "id": "46736726-1e15-4115-a27a-10827c3bba2e",
   "metadata": {},
   "outputs": [],
   "source": [
    "#12. Cancel all open order\n",
    "def cancel_all_open_orders(symbol):\n",
    "    timestamp = int(time.time() * 1000)\n",
    "\n",
    "    # Prepare query string\n",
    "    params = {\n",
    "        'symbol': symbol,\n",
    "        'timestamp': timestamp\n",
    "    }\n",
    "\n",
    "    query_string = urlencode(params)\n",
    "    signature = hmac.new(\n",
    "        api_secret.encode('utf-8'),\n",
    "        query_string.encode('utf-8'),\n",
    "        hashlib.sha256\n",
    "    ).hexdigest()\n",
    "\n",
    "    # Build full URL\n",
    "    url = f\"{URL}/v1/allOpenOrders?{query_string}&signature={signature}\"\n",
    "    headers = {'X-MBX-APIKEY': api_key}\n",
    "\n",
    "    # Send DELETE request\n",
    "    response = requests.delete(url, headers=headers)\n",
    "\n",
    "    if response.status_code == 200:\n",
    "        print(\"All open orders cancelled successfully.\")\n",
    "        print(response.json())\n",
    "    else:\n",
    "        print(\"Failed to cancel orders:\", response.status_code)\n",
    "        print(response.json())\n"
   ]
  },
  {
   "cell_type": "code",
   "execution_count": 217,
   "id": "b31c8639-90fa-4d51-8fdf-87e03cf5a986",
   "metadata": {},
   "outputs": [
    {
     "name": "stdout",
     "output_type": "stream",
     "text": [
      "All open orders cancelled successfully.\n",
      "{'code': 200, 'msg': 'The operation of cancel all open order is done.'}\n"
     ]
    }
   ],
   "source": [
    "cancel_all_open_orders(symbol=symbol)"
   ]
  },
  {
   "cell_type": "code",
   "execution_count": null,
   "id": "061f9c7c-61de-45e6-be02-00442897b2ca",
   "metadata": {},
   "outputs": [],
   "source": []
  },
  {
   "cell_type": "code",
   "execution_count": 225,
   "id": "6d500ad2-d194-42bd-8e95-5d3fb17ce6c3",
   "metadata": {},
   "outputs": [],
   "source": [
    "#13. Stop-Loss market order\n",
    "def place_stop_loss(symbol, side, quantity, stop_price):\n",
    "    timestamp = int(time.time() * 1000)\n",
    "\n",
    "    params = {\n",
    "        'symbol': symbol,\n",
    "        'side': side,  # 'SELL' to stop-loss a long, 'BUY' to stop-loss a short\n",
    "        'type': 'STOP_MARKET',\n",
    "        'stopPrice': stop_price,\n",
    "        'quantity': quantity,\n",
    "        'timestamp': timestamp,\n",
    "        'reduceOnly': 'true'  # ensures it only reduces position\n",
    "    }\n",
    "\n",
    "    query_string = urlencode(params)\n",
    "    signature = hmac.new(api_secret.encode('utf-8'), query_string.encode('utf-8'), hashlib.sha256).hexdigest()\n",
    "    url = f\"{URL}/v1/order?{query_string}&signature={signature}\"\n",
    "    headers = {'X-MBX-APIKEY': api_key}\n",
    "\n",
    "    response = requests.post(url, headers=headers)\n",
    "    print(response.status_code, response.json())"
   ]
  },
  {
   "cell_type": "code",
   "execution_count": 227,
   "id": "7c583f5c-6b2e-4d7a-bec3-f604c730efc3",
   "metadata": {},
   "outputs": [
    {
     "name": "stdout",
     "output_type": "stream",
     "text": [
      "200 {'orderId': 4406270458, 'symbol': 'BTCUSDT', 'status': 'NEW', 'clientOrderId': 'FMKuaZaLxFSlSmbcmYhJG4', 'price': '0.00', 'avgPrice': '0.00', 'origQty': '0.010', 'executedQty': '0.000', 'cumQty': '0.000', 'cumQuote': '0.00000', 'timeInForce': 'GTC', 'type': 'STOP_MARKET', 'reduceOnly': True, 'closePosition': False, 'side': 'SELL', 'positionSide': 'BOTH', 'stopPrice': '80000.00', 'workingType': 'CONTRACT_PRICE', 'priceProtect': False, 'origType': 'STOP_MARKET', 'priceMatch': 'NONE', 'selfTradePreventionMode': 'EXPIRE_MAKER', 'goodTillDate': 0, 'updateTime': 1746638981898}\n"
     ]
    }
   ],
   "source": [
    "place_stop_loss(symbol, \"SELL\", 0.01, '80000')"
   ]
  },
  {
   "cell_type": "code",
   "execution_count": 231,
   "id": "7616a7fd-91d6-4595-af76-745f81e4d95b",
   "metadata": {},
   "outputs": [
    {
     "data": {
      "text/plain": [
       "[{'orderId': 4406270458,\n",
       "  'symbol': 'BTCUSDT',\n",
       "  'status': 'NEW',\n",
       "  'clientOrderId': 'FMKuaZaLxFSlSmbcmYhJG4',\n",
       "  'price': '0',\n",
       "  'avgPrice': '0',\n",
       "  'origQty': '0.010',\n",
       "  'executedQty': '0',\n",
       "  'cumQuote': '0.00000',\n",
       "  'timeInForce': 'GTC',\n",
       "  'type': 'STOP_MARKET',\n",
       "  'reduceOnly': True,\n",
       "  'closePosition': False,\n",
       "  'side': 'SELL',\n",
       "  'positionSide': 'BOTH',\n",
       "  'stopPrice': '80000',\n",
       "  'workingType': 'CONTRACT_PRICE',\n",
       "  'priceProtect': False,\n",
       "  'origType': 'STOP_MARKET',\n",
       "  'priceMatch': 'NONE',\n",
       "  'selfTradePreventionMode': 'EXPIRE_MAKER',\n",
       "  'goodTillDate': 0,\n",
       "  'time': 1746638981898,\n",
       "  'updateTime': 1746638981898}]"
      ]
     },
     "execution_count": 231,
     "metadata": {},
     "output_type": "execute_result"
    }
   ],
   "source": [
    "client.futures_get_open_orders(symbol=symbol)"
   ]
  },
  {
   "cell_type": "code",
   "execution_count": 233,
   "id": "0cedd21d-ea26-4382-8191-92bb8b16b449",
   "metadata": {},
   "outputs": [
    {
     "name": "stdout",
     "output_type": "stream",
     "text": [
      "All open orders cancelled successfully.\n",
      "{'code': 200, 'msg': 'The operation of cancel all open order is done.'}\n"
     ]
    }
   ],
   "source": [
    "cancel_all_open_orders(symbol=symbol)"
   ]
  },
  {
   "cell_type": "code",
   "execution_count": null,
   "id": "00b648fd-6937-485b-b4e2-6eceeb8ae531",
   "metadata": {},
   "outputs": [],
   "source": []
  }
 ],
 "metadata": {
  "kernelspec": {
   "display_name": "Python 3 (ipykernel)",
   "language": "python",
   "name": "python3"
  },
  "language_info": {
   "codemirror_mode": {
    "name": "ipython",
    "version": 3
   },
   "file_extension": ".py",
   "mimetype": "text/x-python",
   "name": "python",
   "nbconvert_exporter": "python",
   "pygments_lexer": "ipython3",
   "version": "3.12.4"
  }
 },
 "nbformat": 4,
 "nbformat_minor": 5
}
